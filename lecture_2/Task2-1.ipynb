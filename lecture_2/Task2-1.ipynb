{
 "cells": [
  {
   "cell_type": "code",
   "execution_count": 94,
   "metadata": {
    "collapsed": false
   },
   "outputs": [],
   "source": [
    "import re\n",
    "import numpy as np\n",
    "import operator\n",
    "from scipy import spatial"
   ]
  },
  {
   "cell_type": "code",
   "execution_count": 115,
   "metadata": {
    "collapsed": false,
    "scrolled": false
   },
   "outputs": [],
   "source": [
    "def prepareLine(line):\n",
    "    line = line.lower()\n",
    "    line = re.split('[^a-z]', line)\n",
    "    line = np.array(line)\n",
    "    line = line[line != '']\n",
    "    return line\n",
    "\n",
    "def addToDictonary(wordList):\n",
    "    for word in wordList:\n",
    "        if word not in dictonary:\n",
    "            dictonary[word] = len(dictonary)\n",
    "\n",
    "def frequencyWord(wordList):\n",
    "    freq = []\n",
    "    wordList = np.array(wordList)\n",
    "    for dictWord in dictonary:\n",
    "        freqWord = wordList[wordList == dictWord]\n",
    "        freq.append(len(freqWord))\n",
    "    return freq\n",
    "\n",
    "def topVectors(vectorIn, vectorsBase):\n",
    "    top = dict()\n",
    "    i=0\n",
    "    for vector in vectorsBase:\n",
    "        top[i] = spatial.distance.cosine(vectorIn,vector)\n",
    "        i = i + 1\n",
    "    sorted_x = sorted(top.items(), key=operator.itemgetter(1))\n",
    "    return sorted_x\n",
    "\n",
    "def write(str):\n",
    "    file_obj = open('task2-1.txt', 'w')\n",
    "    file_obj.write(str)\n",
    "    file_obj.close()"
   ]
  },
  {
   "cell_type": "code",
   "execution_count": 127,
   "metadata": {
    "collapsed": false
   },
   "outputs": [
    {
     "name": "stdout",
     "output_type": "stream",
     "text": [
      "(0, 0.0)\n",
      "In comparison to dogs, cats have not undergone major changes during the domestication process.\n",
      "\n",
      "(6, 0.7327387580875756)\n",
      "Domestic cats are similar in size to the other members of the genus Felis, typically weighing between 4 and 5 kg (8.8 and 11.0 lb).\n",
      "\n",
      "(4, 0.77708871496985887)\n",
      "In one, people deliberately tamed cats in a process of artificial selection, as they were useful predators of vermin.\n",
      "\n"
     ]
    }
   ],
   "source": [
    "file_obj = open('sentences.txt', 'r')\n",
    "dictonary = dict()\n",
    "\n",
    "sentencesFull = []\n",
    "sentences = []\n",
    "frequencies = []\n",
    "\n",
    "for line in file_obj:\n",
    "    sentencesFull.append(line)\n",
    "    wordList = prepareLine(line)\n",
    "    sentences.append(wordList)\n",
    "    addToDictonary(wordList)\n",
    "file_obj.close()\n",
    "\n",
    "for sentence in sentences:\n",
    "    freq = frequencyWord(sentence)\n",
    "    frequencies.append(freq)\n",
    "\n",
    "top = topVectors(frequencies[0], frequencies)\n",
    "write(' '.join([str(top[1][0]), str(top[2][0])]))\n",
    "print top[0]\n",
    "print sentencesFull[top[0][0]]\n",
    "\n",
    "print top[1]\n",
    "print sentencesFull[top[1][0]]\n",
    "\n",
    "print top[2]\n",
    "print sentencesFull[top[2][0]]"
   ]
  },
  {
   "cell_type": "code",
   "execution_count": null,
   "metadata": {
    "collapsed": true
   },
   "outputs": [],
   "source": []
  }
 ],
 "metadata": {
  "kernelspec": {
   "display_name": "Python 2",
   "language": "python",
   "name": "python2"
  },
  "language_info": {
   "codemirror_mode": {
    "name": "ipython",
    "version": 2
   },
   "file_extension": ".py",
   "mimetype": "text/x-python",
   "name": "python",
   "nbconvert_exporter": "python",
   "pygments_lexer": "ipython2",
   "version": "2.7.13"
  }
 },
 "nbformat": 4,
 "nbformat_minor": 2
}
