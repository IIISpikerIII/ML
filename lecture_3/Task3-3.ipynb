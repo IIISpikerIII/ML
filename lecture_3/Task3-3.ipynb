{
 "cells": [
  {
   "cell_type": "code",
   "execution_count": 1,
   "metadata": {
    "collapsed": false
   },
   "outputs": [],
   "source": [
    "%matplotlib inline\n",
    "import matplotlib.pyplot as plt\n",
    "import numpy as np\n",
    "import math\n",
    "from scipy.optimize import minimize, differential_evolution"
   ]
  },
  {
   "cell_type": "code",
   "execution_count": 2,
   "metadata": {
    "collapsed": false
   },
   "outputs": [
    {
     "name": "stdout",
     "output_type": "stream",
     "text": [
      "-5.0\n",
      "-11.0\n"
     ]
    },
    {
     "data": {
      "image/png": "[encoded data removed]",
      "text/plain": [
       "<matplotlib.figure.Figure at 0x1095b7fd0>"
      ]
     },
     "metadata": {},
     "output_type": "display_data"
    }
   ],
   "source": [
    "fun = lambda x: int(math.sin(x / 5.0) * math.exp(x / 10.0) + 5.0 * math.exp(-x / 2.0))\n",
    "\n",
    "def write(str, name):\n",
    "    file_obj = open(name, 'w')\n",
    "    file_obj.write(str)\n",
    "    file_obj.close()\n",
    "\n",
    "#3\n",
    "x=30\n",
    "res = minimize(fun, x, method='BFGS');\n",
    "plt.scatter(res.x, res.fun)\n",
    "answer1 = round(res.fun, 2)\n",
    "print answer1\n",
    "\n",
    "#4\n",
    "res = differential_evolution(fun, [(1,30)])\n",
    "plt.scatter(res.x, res.fun)\n",
    "answer2 = round(res.fun, 2)\n",
    "print answer2\n",
    "\n",
    "# write(' '.join([str(answer1),str(answer2)]), 'task3-3.txt')\n",
    "\n",
    "Xs = np.arange(1.,32.,1)\n",
    "V = [fun(x) for x in Xs]\n",
    "\n",
    "plt.plot(Xs, V)\n",
    "plt.grid(True)\n",
    "plt.show()"
   ]
  },
  {
   "cell_type": "code",
   "execution_count": null,
   "metadata": {
    "collapsed": true
   },
   "outputs": [],
   "source": []
  }
 ],
 "metadata": {
  "kernelspec": {
   "display_name": "Python 2",
   "language": "python",
   "name": "python2"
  },
  "language_info": {
   "codemirror_mode": {
    "name": "ipython",
    "version": 2
   },
   "file_extension": ".py",
   "mimetype": "text/x-python",
   "name": "python",
   "nbconvert_exporter": "python",
   "pygments_lexer": "ipython2",
   "version": "2.7.13"
  }
 },
 "nbformat": 4,
 "nbformat_minor": 2
}
