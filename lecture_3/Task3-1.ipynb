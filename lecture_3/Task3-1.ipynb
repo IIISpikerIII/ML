{
 "cells": [
  {
   "cell_type": "code",
   "execution_count": 10,
   "metadata": {
    "collapsed": false
   },
   "outputs": [],
   "source": [
    "%matplotlib inline\n",
    "import matplotlib.pyplot as plt\n",
    "import numpy as np\n",
    "import math\n",
    "from scipy.optimize import minimize"
   ]
  },
  {
   "cell_type": "code",
   "execution_count": 11,
   "metadata": {
    "collapsed": false
   },
   "outputs": [
    {
     "name": "stdout",
     "output_type": "stream",
     "text": [
      "1.75\n",
      "-11.9\n"
     ]
    },
    {
     "data": {
      "image/png": "[encoded data removed]",
      "text/plain": [
       "<matplotlib.figure.Figure at 0x11b242810>"
      ]
     },
     "metadata": {},
     "output_type": "display_data"
    }
   ],
   "source": [
    "fun = lambda x: math.sin(x / 5.0) * math.exp(x / 10.0) + 5.0 * math.exp(-x / 2.0)\n",
    "\n",
    "def write(str, name):\n",
    "    file_obj = open(name, 'w')\n",
    "    file_obj.write(str)\n",
    "    file_obj.close()\n",
    "    \n",
    "#2\n",
    "x=10\n",
    "res = minimize(fun, x);\n",
    "plt.scatter(res.x, res.fun)\n",
    "\n",
    "#6\n",
    "x=2\n",
    "res = minimize(fun, x, method='BFGS');\n",
    "plt.scatter(res.x, res.fun)\n",
    "answer1 = round(res.fun, 2)\n",
    "print answer1\n",
    "\n",
    "#7\n",
    "x=30\n",
    "res = minimize(fun, x, method='BFGS');\n",
    "plt.scatter(res.x, res.fun)\n",
    "answer2 = round(res.fun, 2)\n",
    "print answer2\n",
    "\n",
    "#write(' '.join([str(answer1), str(answer2)]), 'task3-1.txt')\n",
    "\n",
    "Xs = np.arange(1.,30.,1)\n",
    "V = [fun(x) for x in Xs]\n",
    "\n",
    "plt.plot(Xs, V)\n",
    "plt.grid(True)\n",
    "plt.show()"
   ]
  },
  {
   "cell_type": "code",
   "execution_count": null,
   "metadata": {
    "collapsed": true
   },
   "outputs": [],
   "source": []
  }
 ],
 "metadata": {
  "kernelspec": {
   "display_name": "Python 2",
   "language": "python",
   "name": "python2"
  },
  "language_info": {
   "codemirror_mode": {
    "name": "ipython",
    "version": 2
   },
   "file_extension": ".py",
   "mimetype": "text/x-python",
   "name": "python",
   "nbconvert_exporter": "python",
   "pygments_lexer": "ipython2",
   "version": "2.7.13"
  }
 },
 "nbformat": 4,
 "nbformat_minor": 2
}
