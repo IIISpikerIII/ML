{
 "cells": [
  {
   "cell_type": "code",
   "execution_count": 31,
   "metadata": {
    "collapsed": false
   },
   "outputs": [
    {
     "name": "stdout",
     "output_type": "stream",
     "text": [
      "Populating the interactive namespace from numpy and matplotlib\n"
     ]
    }
   ],
   "source": [
    "%pylab inline"
   ]
  },
  {
   "cell_type": "code",
   "execution_count": 32,
   "metadata": {
    "collapsed": false
   },
   "outputs": [],
   "source": [
    "import numpy as np\n",
    "import pandas as pd\n",
    "from sklearn import cross_validation, tree, datasets, ensemble"
   ]
  },
  {
   "cell_type": "code",
   "execution_count": 50,
   "metadata": {
    "collapsed": false
   },
   "outputs": [
    {
     "name": "stdout",
     "output_type": "stream",
     "text": [
      "(1797, 64)\n"
     ]
    }
   ],
   "source": [
    "clfDigit = datasets.load_digits()\n",
    "data = clfDigit.data\n",
    "target = clfDigit.target\n",
    "def scoring(clf):\n",
    "    return cross_validation.cross_val_score(clf, data, target, cv = 10).mean()\n",
    "\n",
    "def write_answer(answer, fileName):\n",
    "    with open(fileName, \"w\") as fout:\n",
    "        fout.write(str(answer))"
   ]
  },
  {
   "cell_type": "code",
   "execution_count": 38,
   "metadata": {
    "collapsed": false
   },
   "outputs": [
    {
     "name": "stdout",
     "output_type": "stream",
     "text": [
      "0.824667457041\n"
     ]
    }
   ],
   "source": [
    "clfDTC = tree.DecisionTreeClassifier()\n",
    "score = scoring(clfDTC)\n",
    "write_answer(score, 'tree1.txt')\n",
    "print score"
   ]
  },
  {
   "cell_type": "code",
   "execution_count": 39,
   "metadata": {
    "collapsed": false
   },
   "outputs": [
    {
     "name": "stdout",
     "output_type": "stream",
     "text": [
      "0.927137633055\n"
     ]
    }
   ],
   "source": [
    "bagging = ensemble.BaggingClassifier(clfDTC, n_estimators=100)\n",
    "score = scoring(bagging)\n",
    "write_answer(score, 'tree2.txt')\n",
    "print score"
   ]
  },
  {
   "cell_type": "code",
   "execution_count": 40,
   "metadata": {
    "collapsed": false
   },
   "outputs": [
    {
     "name": "stdout",
     "output_type": "stream",
     "text": [
      "0.929969336603\n"
     ]
    }
   ],
   "source": [
    "bagging2 = ensemble.BaggingClassifier(clfDTC, n_estimators=100, max_features=int(sqrt(data.shape[1])))\n",
    "score = scoring(bagging2)\n",
    "write_answer(score, 'tree3.txt')\n",
    "print score"
   ]
  },
  {
   "cell_type": "code",
   "execution_count": 41,
   "metadata": {
    "collapsed": false
   },
   "outputs": [
    {
     "name": "stdout",
     "output_type": "stream",
     "text": [
      "0.948850538088\n"
     ]
    }
   ],
   "source": [
    "clfDTC = tree.DecisionTreeClassifier(max_features=int(sqrt(data.shape[1])))\n",
    "bagging3 = ensemble.BaggingClassifier(clfDTC, n_estimators=100)\n",
    "score = scoring(bagging3)\n",
    "write_answer(score, 'tree4.txt')\n",
    "print score"
   ]
  },
  {
   "cell_type": "code",
   "execution_count": 42,
   "metadata": {
    "collapsed": false
   },
   "outputs": [
    {
     "name": "stdout",
     "output_type": "stream",
     "text": [
      "0.952734470958\n"
     ]
    }
   ],
   "source": [
    "bagging4 = ensemble.RandomForestClassifier(n_estimators=100)\n",
    "score = scoring(bagging4)\n",
    "write_answer(score, 'tree5.txt')\n",
    "print score"
   ]
  },
  {
   "cell_type": "code",
   "execution_count": null,
   "metadata": {
    "collapsed": false
   },
   "outputs": [],
   "source": [
    "pylab.grid(True)\n",
    "est = np.linspace(1, 100, 30)\n",
    "pylab.plot(est, [scoring(ensemble.RandomForestClassifier(n_estimators=int(col))) for col in est], 'g-', marker='o', label='n_estimators')\n",
    "\n",
    "est = np.linspace(1, 50, 40)\n",
    "pylab.plot(est, [scoring(ensemble.RandomForestClassifier(n_estimators=100, max_depth=int(col))) for col in est], 'r-', marker='o', label='depth')\n",
    "\n",
    "est = np.linspace(1, 64, 30)\n",
    "pylab.plot(est, [scoring(ensemble.RandomForestClassifier(n_estimators=100, max_features=int(col))) for col in est], 'b-', marker='o', label='features')\n",
    "\n",
    "pylab.ylim((0.0, 1.05))\n",
    "pylab.legend(loc='lower right')"
   ]
  },
  {
   "cell_type": "code",
   "execution_count": 53,
   "metadata": {
    "collapsed": true
   },
   "outputs": [],
   "source": [
    "score = '2 3 4 7'\n",
    "write_answer(score, 'tree6.txt')"
   ]
  }
 ],
 "metadata": {
  "kernelspec": {
   "display_name": "Python 2",
   "language": "python",
   "name": "python2"
  },
  "language_info": {
   "codemirror_mode": {
    "name": "ipython",
    "version": 2
   },
   "file_extension": ".py",
   "mimetype": "text/x-python",
   "name": "python",
   "nbconvert_exporter": "python",
   "pygments_lexer": "ipython2",
   "version": "2.7.13"
  }
 },
 "nbformat": 4,
 "nbformat_minor": 0
}
